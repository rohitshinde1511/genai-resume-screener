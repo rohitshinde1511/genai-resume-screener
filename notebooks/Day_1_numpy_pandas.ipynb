{
 "cells": [
  {
   "cell_type": "code",
   "execution_count": 1,
   "metadata": {},
   "outputs": [
    {
     "name": "stdout",
     "output_type": "stream",
     "text": [
      "Sum: 60\n",
      "           Score\n",
      "count   2.000000\n",
      "mean   87.500000\n",
      "std     3.535534\n",
      "min    85.000000\n",
      "25%    86.250000\n",
      "50%    87.500000\n",
      "75%    88.750000\n",
      "max    90.000000\n"
     ]
    }
   ],
   "source": [
    "import numpy as np\n",
    "import pandas as pd\n",
    "\n",
    "# NumPy Practice\n",
    "arr = np.array([10, 20, 30])\n",
    "print(\"Sum:\", np.sum(arr))\n",
    "\n",
    "# Pandas Practice\n",
    "df = pd.DataFrame({'Name': ['Alice', 'Bob'], 'Score': [85, 90]})\n",
    "print(df.describe())\n"
   ]
  },
  {
   "cell_type": "code",
   "execution_count": null,
   "metadata": {},
   "outputs": [],
   "source": []
  }
 ],
 "metadata": {
  "kernelspec": {
   "display_name": "Python 3",
   "language": "python",
   "name": "python3"
  },
  "language_info": {
   "codemirror_mode": {
    "name": "ipython",
    "version": 3
   },
   "file_extension": ".py",
   "mimetype": "text/x-python",
   "name": "python",
   "nbconvert_exporter": "python",
   "pygments_lexer": "ipython3",
   "version": "3.12.1"
  }
 },
 "nbformat": 4,
 "nbformat_minor": 2
}
